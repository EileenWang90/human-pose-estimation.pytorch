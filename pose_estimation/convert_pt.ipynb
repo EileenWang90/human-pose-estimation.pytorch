{
 "cells": [
  {
   "cell_type": "code",
   "execution_count": 4,
   "metadata": {},
   "outputs": [],
   "source": [
    "from __future__ import absolute_import\n",
    "from __future__ import division\n",
    "from __future__ import print_function\n",
    "\n",
    "import os\n",
    "os.environ['CUDA_VISIBLE_DEVICES']='0'\n",
    "import os.path as osp\n",
    "import sys\n",
    "import models.pose_mobilenet_relu_bnfuse\n",
    "import torch\n",
    "import argparse\n",
    "\n",
    "def add_path(path):\n",
    "    if path not in sys.path:\n",
    "        sys.path.insert(0, path)\n",
    "        \n",
    "# this_dir = osp.dirname(__file__)\n",
    "# lib_path = osp.join(this_dir, '..')\n",
    "add_path('..')"
   ]
  },
  {
   "cell_type": "code",
   "execution_count": 2,
   "metadata": {},
   "outputs": [
    {
     "data": {
      "text/plain": [
       "\"#print model's state_dict\\nprint('Model.state_dict:')\\nfor n,param_tensor in enumerate(model.state_dict()):\\n    #打印 key value字典\\n    print(n, param_tensor,'\\t',model.state_dict()[param_tensor].size())\""
      ]
     },
     "execution_count": 2,
     "metadata": {},
     "output_type": "execute_result"
    }
   ],
   "source": [
    "model = PoseMobileNet()   \n",
    "debug = True\n",
    "checkpoint_prefix = 'model/Ultralight-Nano-SimplePose'\n",
    "_, mxnet_weights, mxnet_aux = mxnet.model.load_checkpoint(checkpoint_prefix, 0)\n",
    "remapped_state = {}\n",
    "#print('mxnet_weights:', mxnet_weights) # beta gamma weight\n",
    "#print('mxnet_aux:', mxnet_aux) # running_mean running_var\n",
    "\n",
    "'''#print model's state_dict\n",
    "print('Model.state_dict:')\n",
    "for n,param_tensor in enumerate(model.state_dict()):\n",
    "    #打印 key value字典\n",
    "    print(n, param_tensor,'\\t',model.state_dict()[param_tensor].size())'''"
   ]
  },
  {
   "cell_type": "code",
   "execution_count": null,
   "metadata": {},
   "outputs": [],
   "source": [
    "mxnet_key = \n",
    "mxnet_array = mxnet_aux[mxnet_key] if aux else mxnet_weights[mxnet_key]"
   ]
  },
  {
   "cell_type": "code",
   "execution_count": 3,
   "metadata": {},
   "outputs": [
    {
     "ename": "AttributeError",
     "evalue": "'PoseMobileNet' object has no attribute 'b'",
     "output_type": "error",
     "traceback": [
      "\u001b[0;31m---------------------------------------------------------------------------\u001b[0m",
      "\u001b[0;31mAttributeError\u001b[0m                            Traceback (most recent call last)",
      "\u001b[0;32m<ipython-input-3-c289e33ff57f>\u001b[0m in \u001b[0;36m<module>\u001b[0;34m()\u001b[0m\n\u001b[1;32m     25\u001b[0m            \u001b[0;32melse\u001b[0m\u001b[0;34m:\u001b[0m\u001b[0;34m\u001b[0m\u001b[0;34m\u001b[0m\u001b[0m\n\u001b[1;32m     26\u001b[0m                \u001b[0;31m# middle blocks\u001b[0m\u001b[0;34m\u001b[0m\u001b[0;34m\u001b[0m\u001b[0;34m\u001b[0m\u001b[0m\n\u001b[0;32m---> 27\u001b[0;31m                \u001b[0;32mif\u001b[0m \u001b[0mmodel\u001b[0m\u001b[0;34m.\u001b[0m\u001b[0mb\u001b[0m \u001b[0;32mand\u001b[0m \u001b[0;34m'c1x1_c'\u001b[0m \u001b[0;32min\u001b[0m \u001b[0mk\u001b[0m\u001b[0;34m[\u001b[0m\u001b[0;36m2\u001b[0m\u001b[0;34m]\u001b[0m\u001b[0;34m:\u001b[0m\u001b[0;34m\u001b[0m\u001b[0;34m\u001b[0m\u001b[0m\n\u001b[0m\u001b[1;32m     28\u001b[0m                    \u001b[0mbc_block\u001b[0m \u001b[0;34m=\u001b[0m \u001b[0;32mTrue\u001b[0m  \u001b[0;31m# b-variant split c-block special treatment\u001b[0m\u001b[0;34m\u001b[0m\u001b[0;34m\u001b[0m\u001b[0m\n\u001b[1;32m     29\u001b[0m                \u001b[0;32melse\u001b[0m\u001b[0;34m:\u001b[0m\u001b[0;34m\u001b[0m\u001b[0;34m\u001b[0m\u001b[0m\n",
      "\u001b[0;32m~/anaconda3/envs/mxnet/lib/python3.6/site-packages/torch/nn/modules/module.py\u001b[0m in \u001b[0;36m__getattr__\u001b[0;34m(self, name)\u001b[0m\n\u001b[1;32m    583\u001b[0m                 \u001b[0;32mreturn\u001b[0m \u001b[0mmodules\u001b[0m\u001b[0;34m[\u001b[0m\u001b[0mname\u001b[0m\u001b[0;34m]\u001b[0m\u001b[0;34m\u001b[0m\u001b[0;34m\u001b[0m\u001b[0m\n\u001b[1;32m    584\u001b[0m         raise AttributeError(\"'{}' object has no attribute '{}'\".format(\n\u001b[0;32m--> 585\u001b[0;31m             type(self).__name__, name))\n\u001b[0m\u001b[1;32m    586\u001b[0m \u001b[0;34m\u001b[0m\u001b[0m\n\u001b[1;32m    587\u001b[0m     \u001b[0;32mdef\u001b[0m \u001b[0m__setattr__\u001b[0m\u001b[0;34m(\u001b[0m\u001b[0mself\u001b[0m\u001b[0;34m,\u001b[0m \u001b[0mname\u001b[0m\u001b[0;34m,\u001b[0m \u001b[0mvalue\u001b[0m\u001b[0;34m)\u001b[0m\u001b[0;34m:\u001b[0m\u001b[0;34m\u001b[0m\u001b[0;34m\u001b[0m\u001b[0m\n",
      "\u001b[0;31mAttributeError\u001b[0m: 'PoseMobileNet' object has no attribute 'b'"
     ]
    }
   ],
   "source": [
    " for state_key in model.state_dict().keys():\n",
    "        k = state_key.split('.') # pytorch\n",
    "        # mobilenetv21_features_conv0_weight\n",
    "        # mobilenetv21_features_linearbottleneck0_batchnormcudnnoff0_gamma\n",
    "        # hybridsequential1_batchnormcudnnoff0_gamma\n",
    "        aux = False\n",
    "        mxnet_key = ''\n",
    "        if k[0] == 'features':\n",
    "            if k[1] == 'conv1_1':\n",
    "                # input block\n",
    "                mxnet_key += 'conv1_x_1__'\n",
    "                if k[2] == 'bn':\n",
    "                    mxnet_key += 'relu-sp__bn_'\n",
    "                    aux, key_add = _convert_bn(k[3])\n",
    "                    mxnet_key += key_add\n",
    "                else:\n",
    "                    assert k[3] == 'weight'\n",
    "                    mxnet_key += 'conv_' + k[3]\n",
    "            elif k[1] == 'conv5_bn_ac':\n",
    "                # bn + ac at end of features block\n",
    "                mxnet_key += 'conv5_x_x__relu-sp__bn_'\n",
    "                assert k[2] == 'bn'\n",
    "                aux, key_add = _convert_bn(k[3])\n",
    "                mxnet_key += key_add\n",
    "            else:\n",
    "                # middle blocks\n",
    "                if model.b and 'c1x1_c' in k[2]:\n",
    "                    bc_block = True  # b-variant split c-block special treatment\n",
    "                else:\n",
    "                    bc_block = False\n",
    "                ck = k[1].split('_')\n",
    "                mxnet_key += ck[0] + '_x__' + ck[1] + '_'\n",
    "                ck = k[2].split('_')\n",
    "                mxnet_key += ck[0] + '-' + ck[1]\n",
    "                if ck[1] == 'w' and len(ck) > 2:\n",
    "                    mxnet_key += '(s/2)' if ck[2] == 's2' else '(s/1)'\n",
    "                mxnet_key += '__'\n",
    "                if k[3] == 'bn':\n",
    "                    mxnet_key += 'bn_' if bc_block else 'bn__bn_'\n",
    "                    aux, key_add = _convert_bn(k[4])\n",
    "                    mxnet_key += key_add\n",
    "                else:\n",
    "                    ki = 3 if bc_block else 4\n",
    "                    assert k[ki] == 'weight'\n",
    "                    mxnet_key += 'conv_' + k[ki]\n",
    "        elif k[0] == 'classifier':\n",
    "            if 'fc6-1k_weight' in mxnet_weights:\n",
    "                mxnet_key += 'fc6-1k_'\n",
    "            else:\n",
    "                mxnet_key += 'fc6_'\n",
    "            mxnet_key += k[1]\n",
    "        else:\n",
    "            assert False, 'Unexpected token'\n",
    " \n",
    "        if debug:\n",
    "            print(mxnet_key, '=> ', state_key, end=' ')\n",
    " \n",
    "        mxnet_array = mxnet_aux[mxnet_key] if aux else mxnet_weights[mxnet_key]\n",
    "        torch_tensor = torch.from_numpy(mxnet_array.asnumpy())\n",
    "        if k[0] == 'classifier' and k[1] == 'weight':\n",
    "            torch_tensor = torch_tensor.view(torch_tensor.size() + (1, 1))\n",
    "        remapped_state[state_key] = torch_tensor\n",
    " \n",
    "        if debug:\n",
    "            print(list(torch_tensor.size()), torch_tensor.mean(), torch_tensor.std())"
   ]
  },
  {
   "cell_type": "code",
   "execution_count": null,
   "metadata": {},
   "outputs": [],
   "source": [
    "model.load_state_dict(remapped_state)"
   ]
  }
 ],
 "metadata": {
  "kernelspec": {
   "display_name": "Python 3.8.3 64-bit ('base': conda)",
   "name": "python383jvsc74a57bd0aab342d38c9089b27086ef2ff31e6c6863533cd1c8642810b45a542962dd3699"
  },
  "language_info": {
   "codemirror_mode": {
    "name": "ipython",
    "version": 3
   },
   "file_extension": ".py",
   "mimetype": "text/x-python",
   "name": "python",
   "nbconvert_exporter": "python",
   "pygments_lexer": "ipython3",
   "version": "3.8.3"
  },
  "metadata": {
   "interpreter": {
    "hash": "aab342d38c9089b27086ef2ff31e6c6863533cd1c8642810b45a542962dd3699"
   }
  }
 },
 "nbformat": 4,
 "nbformat_minor": 5
}